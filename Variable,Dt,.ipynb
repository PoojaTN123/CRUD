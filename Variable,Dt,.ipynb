{
  "nbformat": 4,
  "nbformat_minor": 0,
  "metadata": {
    "colab": {
      "provenance": [],
      "authorship_tag": "ABX9TyPbUrX+kAGxWA8O5+SGCsDT",
      "include_colab_link": true
    },
    "kernelspec": {
      "name": "python3",
      "display_name": "Python 3"
    },
    "language_info": {
      "name": "python"
    }
  },
  "cells": [
    {
      "cell_type": "markdown",
      "metadata": {
        "id": "view-in-github",
        "colab_type": "text"
      },
      "source": [
        "<a href=\"https://colab.research.google.com/github/PoojaTN123/CRUD/blob/main/Variable%2CDt%2C.ipynb\" target=\"_parent\"><img src=\"https://colab.research.google.com/assets/colab-badge.svg\" alt=\"Open In Colab\"/></a>"
      ]
    },
    {
      "cell_type": "code",
      "execution_count": null,
      "metadata": {
        "id": "fg8UHTNWV7-t"
      },
      "outputs": [],
      "source": []
    },
    {
      "cell_type": "markdown",
      "source": [
        "### **Variables, DataTypes,** **Operators**"
      ],
      "metadata": {
        "id": "8voAEhhGV88U"
      }
    },
    {
      "cell_type": "code",
      "source": [
        "# Variables means storing the values.\n",
        "a = \"Hello\"\n",
        "print(a)"
      ],
      "metadata": {
        "colab": {
          "base_uri": "https://localhost:8080/"
        },
        "id": "fmqRa3ObWL3q",
        "outputId": "243bdd2e-3ac8-4cd2-961d-3697b348cc28"
      },
      "execution_count": 1,
      "outputs": [
        {
          "output_type": "stream",
          "name": "stdout",
          "text": [
            "Hello\n"
          ]
        }
      ]
    },
    {
      "cell_type": "markdown",
      "source": [
        "Variables : It will stores the values or data\n",
        "\n",
        "Data types :\n",
        "\n",
        "    int : Integer values\n",
        "\n",
        "    float: Decimal values\n",
        "\n",
        "    str: string or character\n",
        "    \n",
        "    bool(True , False): Boolean\n",
        "\n",
        "Operator : It will perform operations beween 2 or more operands\n",
        "\n",
        "    * Logical operator [and,or,no]\n",
        "\n",
        "    * Relational(Comparision) opeartor [==,<=,>=,<,>]\n",
        "\n",
        "    * Arithmatic operator [+,-,*,,**,%,/]\n",
        "\n",
        "    * Assignement opeartor [=,+=,-=,%=,/=,**=]\n",
        "\n",
        "    * Membership operators [in ,not in] value found or not\n",
        "\n",
        "    * Identity operator [is, is not]same object or not - it will memory\n",
        "       location of 2 objets\n",
        "\n"
      ],
      "metadata": {
        "id": "qG_7dzpUWyCc"
      }
    },
    {
      "cell_type": "code",
      "source": [
        "Item = input(\"Enter the Item\")\n",
        "\n",
        "if Item == \"Bag\":\n",
        "  ItemPrice = 500\n",
        "  discount = ItemPrice * 0.20\n",
        "  FinalAmount = ItemPrice - discount\n",
        "  print(\"Actual Item price is:\",ItemPrice)\n",
        "  print(\"Discount is:\",discount)\n",
        "  print(\"Final Amount is :\",FinalAmount)\n",
        "\n",
        "elif Item == \"Dress\":\n",
        "  ItemPrice = 1000\n",
        "  discount = ItemPrice * 0.20\n",
        "  FinalAmount = ItemPrice - discount\n",
        "  print(\"Actual Item price is:\",ItemPrice)\n",
        "  print(\"Discount is:\",discount)\n",
        "  print(\"Final Amount is :\",FinalAmount)\n",
        "\n",
        "elif Item == \"Book\":\n",
        "  ItemPrice = 300\n",
        "  discount = ItemPrice * 0.20\n",
        "  FinalAmount = ItemPrice - discount\n",
        "  print(\"Actual Item price is:\",ItemPrice)\n",
        "  print(\"Discount is:\",discount)\n",
        "  print(\"Final Amount is :\",FinalAmount)\n",
        "\n",
        "else:\n",
        "  print(\"Discount is not available\")\n",
        "\n"
      ],
      "metadata": {
        "colab": {
          "base_uri": "https://localhost:8080/"
        },
        "id": "z21sUFrubw0I",
        "outputId": "d325f03c-0695-43ae-ef12-0a9ac3918bed"
      },
      "execution_count": 9,
      "outputs": [
        {
          "output_type": "stream",
          "name": "stdout",
          "text": [
            "Enter the ItemBag\n",
            "Actual Item price is: 500\n",
            "Discount is: 100.0\n",
            "Final Amount is : 400.0\n"
          ]
        }
      ]
    },
    {
      "cell_type": "markdown",
      "source": [
        "# String **Methods**\n",
        "\n",
        " lower()\n",
        "\n",
        " upper()\n",
        "\n",
        " replace(new,old)\n",
        "\n",
        " strip() remove whitespace\n",
        "\n",
        " split(delimeter) split string into list of substring\n",
        "\n",
        " join(iterable) join elements of iterable string"
      ],
      "metadata": {
        "id": "sX7f7IdwODyu"
      }
    },
    {
      "cell_type": "code",
      "source": [
        "IntEx = 5\n",
        "FloatEx = 5.5\n",
        "strEx = \"Hello\"\n",
        "boolEx = True\n",
        "\n",
        "if a == \"Hello\":\n",
        "    print(\"True\")\n",
        "else:\n",
        "    print(\"False\")\n",
        "\n",
        "val1=10\n",
        "val2=20\n",
        "val3=val1+val2\n",
        "print(val3)"
      ],
      "metadata": {
        "colab": {
          "base_uri": "https://localhost:8080/"
        },
        "id": "jL3j4L-iXoys",
        "outputId": "d87e3ec9-ba46-480f-dd9c-d568ad4f1df8"
      },
      "execution_count": 3,
      "outputs": [
        {
          "output_type": "stream",
          "name": "stdout",
          "text": [
            "True\n",
            "30\n"
          ]
        }
      ]
    },
    {
      "cell_type": "code",
      "source": [
        "#cancatenation\n",
        "a=\"hi\"\n",
        "b=\"here\"\n",
        "\n",
        "a + b\n",
        "\n",
        "a=a.replace(\"hi\",\"Hi\")\n",
        "\n",
        "\"24\" + \"60\" # its not goig to add like addition , It will be cantenating 2 string\n",
        "\n",
        "print(\" > \".join([\"Hello\",\"Welcome\",\"To\",\"World\"]))\n"
      ],
      "metadata": {
        "colab": {
          "base_uri": "https://localhost:8080/"
        },
        "id": "QRfZMNY8OqmY",
        "outputId": "1519f1a2-12e9-4f0c-d373-3860ef98ff78"
      },
      "execution_count": 9,
      "outputs": [
        {
          "output_type": "stream",
          "name": "stdout",
          "text": [
            "Hello > Welcome > To > World\n"
          ]
        }
      ]
    },
    {
      "cell_type": "code",
      "source": [
        "paragraph = input(\"Enter the paragraph.\")\n",
        "\n",
        "print(paragraph.count(\".\"))\n",
        "words=paragraph.split()\n",
        "length=len(words)\n",
        "print(length)\n",
        "\n",
        "old_word = input(\"Enter the replace word:\")\n",
        "new_word = input(\"Enter the new word:\")\n",
        "paragraph = paragraph.replace(old_word,new_word)\n",
        "print(paragraph)\n"
      ],
      "metadata": {
        "colab": {
          "base_uri": "https://localhost:8080/"
        },
        "id": "k30x5G4KR6l9",
        "outputId": "5c650532-e554-4e01-a01b-42c8431578f8"
      },
      "execution_count": 15,
      "outputs": [
        {
          "output_type": "stream",
          "name": "stdout",
          "text": [
            "Enter the paragraph.Hello Pooja welcome to blog\n",
            "0\n",
            "5\n",
            "Enter the replace word:Pooja\n",
            "Enter the new word:Suhas\n",
            "Hello Suhas welcome to blog\n"
          ]
        }
      ]
    },
    {
      "cell_type": "code",
      "source": [
        "# prompt: List datastructures in python and its methods and which are mutable and immutable\n",
        "\n",
        "# Data Structures in Python\n",
        "\n",
        "# Lists: Ordered, mutable sequence of items.\n",
        "my_list = [1, 2, 3, 'a', 'b']\n",
        "# Methods: append(), insert(), remove(), pop(), index(), count(), sort(), reverse(), clear(), copy(), extend()\n",
        "my_list.append(4)  # Adds an element to the end\n",
        "my_list.insert(2, 'c') # Inserts element 'c' at index 2\n",
        "# Mutable\n",
        "\n",
        "# Tuples: Ordered, immutable sequence of items.\n",
        "my_tuple = (1, 2, 3, 'a', 'b')\n",
        "# Methods: count(), index()\n",
        "# Immutable\n",
        "\n",
        "\n",
        "# Sets: Unordered collection of unique items.\n",
        "my_set = {1, 2, 3, 'a', 'b'}\n",
        "# Methods: add(), remove(), discard(), pop(), clear(), union(), intersection(), difference(), update()\n",
        "my_set.add(4)  # Adds an element; duplicates are ignored\n",
        "# Mutable\n",
        "\n",
        "\n",
        "# Dictionaries: Unordered collection of key-value pairs.\n",
        "my_dict = {'a': 1, 'b': 2, 'c': 3}\n",
        "# Methods: keys(), values(), items(), get(), update(), pop(), popitem(), clear()\n",
        "my_dict['d'] = 4 # Adds a new key-value pair\n",
        "# Mutable\n",
        "\n",
        "\n",
        "# Strings: Ordered, immutable sequence of characters.\n",
        "my_string = \"Hello, world!\"\n",
        "# Methods: upper(), lower(), capitalize(), title(), strip(), split(), join(), replace(), find(), count()\n",
        "# Immutable\n",
        "\n",
        "\n",
        "# Summary Table\n",
        "# Data Structure | Mutable | Ordered | Methods\n",
        "#---|---|---|---\n",
        "# List | Yes | Yes | append, insert, remove, pop, index, count, sort, reverse, clear, copy, extend\n",
        "# Tuple | No | Yes | count, index\n",
        "# Set | Yes | No | add, remove, discard, pop, clear, union, intersection, difference, update\n",
        "# Dictionary | Yes | No (key-value pairs) | keys, values, items, get, update, pop, popitem, clear\n",
        "# String | No | Yes | upper, lower, capitalize, title, strip, split, join, replace, find, count\n",
        "\n",
        "\n"
      ],
      "metadata": {
        "id": "wqb7gga6ZQAo"
      },
      "execution_count": null,
      "outputs": []
    },
    {
      "cell_type": "code",
      "source": [
        "# prompt: what are the interview questions asked based on python datastucture with answer\n",
        "\n",
        "# Python Data Structures Interview Questions and Answers\n",
        "\n",
        "# 1. What are the key differences between lists and tuples in Python?\n",
        "\n",
        "# Answer:\n",
        "# Lists are mutable (changeable) and tuples are immutable (unchangeable).\n",
        "# Lists are defined using square brackets [], while tuples use parentheses ().\n",
        "# Lists generally consume more memory than tuples.\n",
        "\n",
        "\n",
        "# Example demonstrating mutability:\n",
        "my_list = [1, 2, 3]\n",
        "my_tuple = (1, 2, 3)\n",
        "\n",
        "my_list[0] = 4  # Modifying a list element is allowed\n",
        "# my_tuple[0] = 4  # This will raise a TypeError because tuples are immutable\n",
        "\n",
        "# 2. Explain the difference between a set and a dictionary in Python.\n",
        "\n",
        "# Answer:\n",
        "# Sets are unordered collections of *unique* elements.  They are useful for membership testing and eliminating duplicate entries.\n",
        "# Dictionaries are unordered collections of *key-value pairs*. Keys must be unique and immutable (like strings, numbers, or tuples). Dictionaries are used to store and retrieve data efficiently based on keys.\n",
        "\n",
        "\n",
        "# Example:\n",
        "my_set = {1, 2, 2, 3}  # Duplicate 2 will be removed\n",
        "print(my_set)  # Output: {1, 2, 3}\n",
        "\n",
        "my_dict = {\"a\": 1, \"b\": 2, \"c\": 3}\n",
        "print(my_dict[\"b\"]) # Output: 2\n",
        "\n",
        "# 3. How do you check if an element exists in a list or set?\n",
        "\n",
        "# Answer:\n",
        "# Use the `in` operator.\n",
        "\n",
        "# Example:\n",
        "my_list = [1, 2, 3, 4]\n",
        "if 3 in my_list:\n",
        "    print(\"3 is in the list\")\n",
        "\n",
        "my_set = {1, 2, 3, 4}\n",
        "if 5 not in my_set:\n",
        "    print(\"5 is not in the set\")\n",
        "\n",
        "\n",
        "# 4.  Describe the difference between `append()` and `extend()` methods for lists.\n",
        "\n",
        "# Answer:\n",
        "# `append()` adds a single element to the end of a list.\n",
        "# `extend()` iterates over an iterable (like another list or a string) and adds each of its elements to the end of the list.\n",
        "\n",
        "\n",
        "# Example:\n",
        "my_list = [1, 2, 3]\n",
        "my_list.append([4, 5])  # Adds a list as a single element\n",
        "print(my_list)  # Output: [1, 2, 3, [4, 5]]\n",
        "\n",
        "\n",
        "my_list = [1, 2, 3]\n",
        "my_list.extend([4, 5]) #Adds each element to the list\n",
        "print(my_list) # Output: [1, 2, 3, 4, 5]\n",
        "\n",
        "\n",
        "# 5. What are the time complexities of common list operations? (e.g., append, insert, remove, access by index)\n",
        "\n",
        "# Answer:\n",
        "# Append: O(1) on average, O(n) in the worst case (when the list needs to be resized)\n",
        "# Insert: O(n) (elements need to be shifted)\n",
        "# Remove: O(n) (elements need to be shifted)\n",
        "# Access by index: O(1)\n",
        "\n",
        "# 6. How do you iterate through a dictionary?\n",
        "\n",
        "# Answer: Several ways:\n",
        "# Iterate through keys:\n",
        "my_dict = {'a': 1, 'b': 2, 'c': 3}\n",
        "for key in my_dict:\n",
        "  print(key, my_dict[key])\n",
        "\n",
        "# Iterate through key-value pairs using items():\n",
        "for key, value in my_dict.items():\n",
        "  print(key, value)\n",
        "\n",
        "# Iterate through values only:\n",
        "for value in my_dict.values():\n",
        "  print(value)\n",
        "\n",
        "# 7. Explain the concept of immutability in Python data structures.  Provide examples.\n",
        "\n",
        "#Answer:\n",
        "#Immutable objects cannot be changed after creation.  Any operation that seems to modify an immutable object actually creates a new object.  Strings and tuples are examples.\n",
        "\n",
        "\n",
        "# Example:\n",
        "my_string = \"hello\"\n",
        "new_string = my_string.upper()  # Creates a new string \"HELLO\"; my_string remains \"hello\"\n",
        "\n",
        "my_tuple = (1, 2, 3)\n",
        "# my_tuple[0] = 4  # This will cause an error because tuples are immutable\n",
        "\n",
        "# 8.  What are list comprehensions and how are they useful?\n",
        "\n",
        "# Answer:\n",
        "# List comprehensions offer a concise way to create lists based on existing iterables.\n",
        "\n",
        "#Example:\n",
        "squares = [x**2 for x in range(10)]\n",
        "print(squares) #[0, 1, 4, 9, 16, 25, 36, 49, 64, 81]\n",
        "\n",
        "#More Complex example:\n",
        "even_squares = [x**2 for x in range(10) if x%2 == 0]\n",
        "print(even_squares) #[0, 4, 16, 36, 64]\n"
      ],
      "metadata": {
        "id": "MgGjIW_dZy1H"
      },
      "execution_count": null,
      "outputs": []
    },
    {
      "cell_type": "markdown",
      "source": [
        "Loops in python\n",
        "\n",
        "For loop\n",
        "\n",
        "while loop"
      ],
      "metadata": {
        "id": "ekRaCU3ZbojA"
      }
    },
    {
      "cell_type": "code",
      "source": [
        "from os import name\n",
        "stud1={'Name':'Pooja','Grade':'A','Marks':85}\n",
        "std2={'Name':'Suhas','Grade':'A','Marks':85}\n",
        "stud3={'Name':'Uma','Grade':'A','Marks':85}\n",
        "\n",
        "student=[]\n",
        "student.append(stud1)\n",
        "student.append(std2)\n",
        "student.append(stud3)\n",
        "print(student)\n",
        "\n",
        "for i in student:\n",
        "  print(f\"Name: {i['Name']}, Marks: {i['Marks']}, Grade: {i['Grade']}\")\n",
        "\n",
        "\n",
        "name=input(\"Enter the name:\")\n",
        "\n",
        "for stud in student:\n",
        "  if stud['Name']==name:\n",
        "    print(f\" Result is \\n Marks: {stud['Marks']}, Grade: {stud['Grade']}\")\n",
        "\n",
        "    break\n",
        "else:\n",
        "  print(\"Student not found\")\n",
        "\n"
      ],
      "metadata": {
        "colab": {
          "base_uri": "https://localhost:8080/"
        },
        "id": "-k7O2iNib10T",
        "outputId": "0254b7ed-dbd1-48b2-c486-997bf5125a41"
      },
      "execution_count": 21,
      "outputs": [
        {
          "output_type": "stream",
          "name": "stdout",
          "text": [
            "[{'Name': 'Pooja', 'Grade': 'A', 'Marks': 85}, {'Name': 'Suhas', 'Grade': 'A', 'Marks': 85}, {'Name': 'Uma', 'Grade': 'A', 'Marks': 85}]\n",
            "Name: Pooja, Marks: 85, Grade: A\n",
            "Name: Suhas, Marks: 85, Grade: A\n",
            "Name: Uma, Marks: 85, Grade: A\n",
            "Enter the name:Janu\n",
            "Student not found\n"
          ]
        }
      ]
    },
    {
      "cell_type": "code",
      "source": [
        "PName = ['Uma','Suhas','Pooja']\n",
        "PhNo = [9741315991,98654378,8296193652]\n",
        "Details = {'Name':['Uma','Suhas','Pooja'],'PhNo':[[9741315991,98654378,8296193652]]}\n",
        "Name =input(\"Enter person name\")\n",
        "\n",
        "for name in Details['Name']:\n",
        "  if name == Name:\n",
        "    print(Details['PhNo'])\n",
        "    break\n",
        "else:\n",
        "  print(name)\n"
      ],
      "metadata": {
        "colab": {
          "base_uri": "https://localhost:8080/"
        },
        "id": "zclS-h9lg0NJ",
        "outputId": "e237fa89-acf6-4c2a-d2ee-c4a18593e1c7"
      },
      "execution_count": 23,
      "outputs": [
        {
          "output_type": "stream",
          "name": "stdout",
          "text": [
            "Enter person namePooja\n",
            "[[9741315991, 98654378, 8296193652]]\n"
          ]
        }
      ]
    },
    {
      "cell_type": "code",
      "source": [
        "# prompt: how to call class in python\n",
        "\n",
        "# Define a class\n",
        "class MyClass:\n",
        "  def __init__(self, value):\n",
        "    self.value = value\n",
        "\n",
        "  def print_value(self):\n",
        "    print(self.value)\n",
        "\n",
        "# Create an instance of the class\n",
        "my_instance = MyClass(\"Hello from class\")\n",
        "\n",
        "# Call a method of the class\n",
        "my_instance.print_value()\n"
      ],
      "metadata": {
        "id": "2bsFiJSRnF0j"
      },
      "execution_count": null,
      "outputs": []
    },
    {
      "cell_type": "code",
      "source": [
        "class Student:\n",
        "  def __init__(self,name,age) -> None:\n",
        "    self.name = name\n",
        "    self.age = age\n",
        "\n",
        "std = Student(\"Pooja\",25)\n",
        "print(std.name)\n",
        "print(std.age)\n",
        ""
      ],
      "metadata": {
        "colab": {
          "base_uri": "https://localhost:8080/"
        },
        "id": "DEFcw-9PojQi",
        "outputId": "8176ce83-0411-4093-a7aa-d8e24a69e0c8"
      },
      "execution_count": 25,
      "outputs": [
        {
          "output_type": "stream",
          "name": "stdout",
          "text": [
            "Pooja\n",
            "25\n"
          ]
        }
      ]
    },
    {
      "cell_type": "code",
      "source": [
        "class Student:\n",
        "  def __init__(self,name,age) -> None:\n",
        "    self.name = name\n",
        "    self.age = age\n",
        "\n",
        "  def display(self):\n",
        "    print(self.name)\n",
        "    print(self.age)\n",
        "\n",
        "std = Student(\"Pooja\",25)\n",
        "print(std.display())"
      ],
      "metadata": {
        "colab": {
          "base_uri": "https://localhost:8080/"
        },
        "id": "p0aFUR1jppq2",
        "outputId": "1803f0bd-eda4-44cd-b182-7de03f912c60"
      },
      "execution_count": 26,
      "outputs": [
        {
          "output_type": "stream",
          "name": "stdout",
          "text": [
            "Pooja\n",
            "25\n",
            "None\n"
          ]
        }
      ]
    },
    {
      "cell_type": "code",
      "source": [
        "class Student:\n",
        "\n",
        "\n",
        "  def studentDetails(name,age,college):\n",
        "    print(f\"My name is {name} and I'm {age} old and I studied in {college}\")\n",
        "\n",
        "\n",
        "name = input(\"Enter the name:\")\n",
        "age = input(\"Enter the age:\")\n",
        "college = input(\"Enter the college:\")\n",
        "\n",
        "Student.studentDetails(name,age,college)\n",
        "std = Student()\n",
        "\n",
        "\n"
      ],
      "metadata": {
        "colab": {
          "base_uri": "https://localhost:8080/"
        },
        "id": "TaK6K7BpqV5d",
        "outputId": "6d981391-1c8d-4988-ed8e-fc1551e01a17"
      },
      "execution_count": 29,
      "outputs": [
        {
          "output_type": "stream",
          "name": "stdout",
          "text": [
            "Enter the name:Pooja\n",
            "Enter the age:24\n",
            "Enter the college:VVFGC\n",
            "My name is Pooja and I'm 24 old and I studied in VVFGC\n"
          ]
        }
      ]
    },
    {
      "cell_type": "code",
      "source": [
        "# prompt: file handling in python and its operation\n",
        "\n",
        "def file_operations(filename, mode=\"r\", content=None):\n",
        "    \"\"\"\n",
        "    Performs file operations based on the specified mode.\n",
        "\n",
        "    Args:\n",
        "        filename: The name of the file.\n",
        "        mode: The file operation mode ('r' for read, 'w' for write, 'a' for append). Default is 'r'.\n",
        "        content: The content to write to the file (required for 'w' and 'a' modes).\n",
        "\n",
        "    Returns:\n",
        "        The content of the file if mode is 'r', otherwise None.\n",
        "        Prints an error message if the file operation fails or if the mode is invalid.\n",
        "    \"\"\"\n",
        "    try:\n",
        "        if mode == \"r\":\n",
        "            with open(filename, mode) as file:\n",
        "                return file.read()\n",
        "        elif mode == \"w\" or mode == \"a\":\n",
        "            if content is None:\n",
        "                print(\"Error: Content is required for write/append mode.\")\n",
        "                return None\n",
        "            with open(filename, mode) as file:\n",
        "                file.write(content)\n",
        "        else:\n",
        "            print(\"Error: Invalid mode. Use 'r' for read, 'w' for write, or 'a' for append.\")\n",
        "            return None\n",
        "    except FileNotFoundError:\n",
        "        print(f\"Error: File '{filename}' not found.\")\n",
        "        return None\n",
        "    except Exception as e:\n",
        "        print(f\"An error occurred: {e}\")\n",
        "        return None\n"
      ],
      "metadata": {
        "id": "G4ieA3xFusan"
      },
      "execution_count": null,
      "outputs": []
    },
    {
      "cell_type": "code",
      "source": [
        "# prompt: reading and writing files and its method in python file handling\n",
        "\n",
        "# Example usage\n",
        "filename = \"my_file.txt\"  # Replace with your desired filename\n",
        "\n",
        "# Read from the file\n",
        "file_content = file_operations(filename)\n",
        "if file_content:\n",
        "    print(\"File content:\\n\", file_content)\n",
        "\n",
        "\n",
        "# Write to the file (will overwrite existing content)\n",
        "file_operations(filename, mode=\"w\", content=\"This is some new content.\\n\")\n",
        "\n",
        "\n",
        "# Append to the file (will add content to the end)\n",
        "file_operations(filename, mode=\"a\", content=\"This is appended content.\\n\")\n",
        "\n",
        "# Example of error handling (file not found)\n",
        "file_operations(\"nonexistent_file.txt\")\n"
      ],
      "metadata": {
        "colab": {
          "base_uri": "https://localhost:8080/",
          "height": 216
        },
        "id": "ohOdZLVxvbVg",
        "outputId": "a148d32c-382e-47c0-d81b-befbc805e021"
      },
      "execution_count": 31,
      "outputs": [
        {
          "output_type": "error",
          "ename": "NameError",
          "evalue": "name 'file_operations' is not defined",
          "traceback": [
            "\u001b[0;31m---------------------------------------------------------------------------\u001b[0m",
            "\u001b[0;31mNameError\u001b[0m                                 Traceback (most recent call last)",
            "\u001b[0;32m<ipython-input-31-e174bba294f0>\u001b[0m in \u001b[0;36m<cell line: 0>\u001b[0;34m()\u001b[0m\n\u001b[1;32m      5\u001b[0m \u001b[0;34m\u001b[0m\u001b[0m\n\u001b[1;32m      6\u001b[0m \u001b[0;31m# Read from the file\u001b[0m\u001b[0;34m\u001b[0m\u001b[0;34m\u001b[0m\u001b[0m\n\u001b[0;32m----> 7\u001b[0;31m \u001b[0mfile_content\u001b[0m \u001b[0;34m=\u001b[0m \u001b[0mfile_operations\u001b[0m\u001b[0;34m(\u001b[0m\u001b[0mfilename\u001b[0m\u001b[0;34m)\u001b[0m\u001b[0;34m\u001b[0m\u001b[0;34m\u001b[0m\u001b[0m\n\u001b[0m\u001b[1;32m      8\u001b[0m \u001b[0;32mif\u001b[0m \u001b[0mfile_content\u001b[0m\u001b[0;34m:\u001b[0m\u001b[0;34m\u001b[0m\u001b[0;34m\u001b[0m\u001b[0m\n\u001b[1;32m      9\u001b[0m     \u001b[0mprint\u001b[0m\u001b[0;34m(\u001b[0m\u001b[0;34m\"File content:\\n\"\u001b[0m\u001b[0;34m,\u001b[0m \u001b[0mfile_content\u001b[0m\u001b[0;34m)\u001b[0m\u001b[0;34m\u001b[0m\u001b[0;34m\u001b[0m\u001b[0m\n",
            "\u001b[0;31mNameError\u001b[0m: name 'file_operations' is not defined"
          ]
        }
      ]
    },
    {
      "cell_type": "code",
      "source": [
        "# prompt: File hanling in python explain in details and explain read and write methods and different types\n",
        "\n",
        "def file_operations(filename, mode=\"r\", content=None):\n",
        "    \"\"\"\n",
        "    Performs file operations based on the specified mode.\n",
        "\n",
        "    Args:\n",
        "        filename: The name of the file.\n",
        "        mode: The file operation mode ('r' for read, 'w' for write, 'a' for append, 'x' for create). Default is 'r'.\n",
        "        content: The content to write to the file (required for 'w', 'a', and 'x' modes).\n",
        "\n",
        "    Returns:\n",
        "        The content of the file if mode is 'r', otherwise None.\n",
        "        Prints an error message if the file operation fails or if the mode is invalid.\n",
        "    \"\"\"\n",
        "    try:\n",
        "        if mode == \"r\":\n",
        "            with open(filename, mode) as file:\n",
        "                return file.read()\n",
        "        elif mode in (\"w\", \"a\", \"x\"):\n",
        "            if content is None:\n",
        "                print(\"Error: Content is required for write/append/create mode.\")\n",
        "                return None\n",
        "            with open(filename, mode) as file:\n",
        "                file.write(content)\n",
        "        else:\n",
        "            print(\"Error: Invalid mode. Use 'r' for read, 'w' for write, 'a' for append, or 'x' for create.\")\n",
        "            return None\n",
        "    except FileNotFoundError:\n",
        "        print(f\"Error: File '{filename}' not found.\")\n",
        "        return None\n",
        "    except FileExistsError:\n",
        "        print(f\"Error: File '{filename}' already exists.\")\n",
        "        return None\n",
        "    except Exception as e:\n",
        "        print(f\"An error occurred: {e}\")\n",
        "        return None\n"
      ],
      "metadata": {
        "id": "CxkCuhDmvurZ"
      },
      "execution_count": null,
      "outputs": []
    },
    {
      "cell_type": "code",
      "source": [
        "# prompt: Generate to do list using file handling as user input\n",
        "\n",
        "def add_to_todo(filename):\n",
        "    \"\"\"Adds a new task to the to-do list in a file.\"\"\"\n",
        "\n",
        "    task = input(\"Enter the task to add: \")\n",
        "    try:\n",
        "        with open(filename, \"a\") as file:\n",
        "            file.write(f\"- {task}\\n\")\n",
        "        print(f\"Task '{task}' added successfully!\")\n",
        "    except Exception as e:\n",
        "        print(f\"An error occurred: {e}\")\n",
        "\n",
        "\n",
        "def view_todo(filename):\n",
        "    \"\"\"Views the current to-do list from a file.\"\"\"\n",
        "\n",
        "    try:\n",
        "        with open(filename, \"r\") as file:\n",
        "            tasks = file.readlines()\n",
        "            if tasks:\n",
        "                print(\"To-Do List:\")\n",
        "                for task in tasks:\n",
        "                    print(task, end=\"\")\n",
        "            else:\n",
        "                print(\"To-Do List is empty.\")\n",
        "    except FileNotFoundError:\n",
        "        print(\"To-Do List file not found.\")\n",
        "    except Exception as e:\n",
        "        print(f\"An error occurred: {e}\")\n",
        "\n",
        "\n",
        "if __name__ == \"__main__\":\n",
        "    filename = \"todo.txt\"  # Specify your to-do list filename\n",
        "\n",
        "    while True:\n",
        "        print(\"\\nChoose an action:\")\n",
        "        print(\"1. Add task\")\n",
        "        print(\"2. View tasks\")\n",
        "        print(\"3. Exit\")\n",
        "\n",
        "        choice = input(\"Enter your choice: \")\n",
        "\n",
        "        if choice == \"1\":\n",
        "            add_to_todo(filename)\n",
        "        elif choice == \"2\":\n",
        "            view_todo(filename)\n",
        "        elif choice == \"3\":\n",
        "            print(\"Exiting...\")\n",
        "            break\n",
        "        else:\n",
        "            print(\"Invalid choice. Please try again.\")\n"
      ],
      "metadata": {
        "id": "MNHetAwCz7In"
      },
      "execution_count": null,
      "outputs": []
    },
    {
      "cell_type": "code",
      "source": [],
      "metadata": {
        "id": "yiDWwLJN0M1D"
      },
      "execution_count": null,
      "outputs": []
    }
  ]
}