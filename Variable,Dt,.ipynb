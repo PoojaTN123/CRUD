{
  "nbformat": 4,
  "nbformat_minor": 0,
  "metadata": {
    "colab": {
      "provenance": [],
      "authorship_tag": "ABX9TyNnTrVdWoD8TUwMPBRog/5b",
      "include_colab_link": true
    },
    "kernelspec": {
      "name": "python3",
      "display_name": "Python 3"
    },
    "language_info": {
      "name": "python"
    }
  },
  "cells": [
    {
      "cell_type": "markdown",
      "metadata": {
        "id": "view-in-github",
        "colab_type": "text"
      },
      "source": [
        "<a href=\"https://colab.research.google.com/github/PoojaTN123/CRUD/blob/main/Variable%2CDt%2C.ipynb\" target=\"_parent\"><img src=\"https://colab.research.google.com/assets/colab-badge.svg\" alt=\"Open In Colab\"/></a>"
      ]
    },
    {
      "cell_type": "code",
      "execution_count": null,
      "metadata": {
        "id": "fg8UHTNWV7-t"
      },
      "outputs": [],
      "source": []
    },
    {
      "cell_type": "markdown",
      "source": [
        "### **Variables, DataTypes,** **Operators**"
      ],
      "metadata": {
        "id": "8voAEhhGV88U"
      }
    },
    {
      "cell_type": "code",
      "source": [
        "# Variables means storing the values.\n",
        "a = \"Hello\"\n",
        "print(a)"
      ],
      "metadata": {
        "colab": {
          "base_uri": "https://localhost:8080/"
        },
        "id": "fmqRa3ObWL3q",
        "outputId": "243bdd2e-3ac8-4cd2-961d-3697b348cc28"
      },
      "execution_count": 1,
      "outputs": [
        {
          "output_type": "stream",
          "name": "stdout",
          "text": [
            "Hello\n"
          ]
        }
      ]
    },
    {
      "cell_type": "markdown",
      "source": [
        "Variables : It will stores the values or data\n",
        "\n",
        "Data types :\n",
        "\n",
        "    int : Integer values\n",
        "\n",
        "    float: Decimal values\n",
        "\n",
        "    str: string or character\n",
        "    \n",
        "    bool(True , False): Boolean\n",
        "\n",
        "Operator : It will perform operations beween 2 or more operands\n",
        "\n",
        "    * Logical operator [and,or,no]\n",
        "\n",
        "    * Relational(Comparision) opeartor [==,<=,>=,<,>]\n",
        "\n",
        "    * Arithmatic operator [+,-,*,,**,%,/]\n",
        "\n",
        "    * Assignement opeartor [=,+=,-=,%=,/=,**=]\n",
        "\n",
        "    * Membership operators [in ,not in] value found or not\n",
        "\n",
        "    * Identity operator [is, is not]same object or not - it will memory\n",
        "       location of 2 objets\n",
        "\n"
      ],
      "metadata": {
        "id": "qG_7dzpUWyCc"
      }
    },
    {
      "cell_type": "code",
      "source": [
        "Item = input(\"Enter the Item\")\n",
        "\n",
        "if Item == \"Bag\":\n",
        "  ItemPrice = 500\n",
        "  discount = ItemPrice * 0.20\n",
        "  FinalAmount = ItemPrice - discount\n",
        "  print(\"Actual Item price is:\",ItemPrice)\n",
        "  print(\"Discount is:\",discount)\n",
        "  print(\"Final Amount is :\",FinalAmount)\n",
        "\n",
        "elif Item == \"Dress\":\n",
        "  ItemPrice = 1000\n",
        "  discount = ItemPrice * 0.20\n",
        "  FinalAmount = ItemPrice - discount\n",
        "  print(\"Actual Item price is:\",ItemPrice)\n",
        "  print(\"Discount is:\",discount)\n",
        "  print(\"Final Amount is :\",FinalAmount)\n",
        "\n",
        "elif Item == \"Book\":\n",
        "  ItemPrice = 300\n",
        "  discount = ItemPrice * 0.20\n",
        "  FinalAmount = ItemPrice - discount\n",
        "  print(\"Actual Item price is:\",ItemPrice)\n",
        "  print(\"Discount is:\",discount)\n",
        "  print(\"Final Amount is :\",FinalAmount)\n",
        "\n",
        "else:\n",
        "  print(\"Discount is not available\")\n",
        "\n"
      ],
      "metadata": {
        "colab": {
          "base_uri": "https://localhost:8080/"
        },
        "id": "z21sUFrubw0I",
        "outputId": "d325f03c-0695-43ae-ef12-0a9ac3918bed"
      },
      "execution_count": 9,
      "outputs": [
        {
          "output_type": "stream",
          "name": "stdout",
          "text": [
            "Enter the ItemBag\n",
            "Actual Item price is: 500\n",
            "Discount is: 100.0\n",
            "Final Amount is : 400.0\n"
          ]
        }
      ]
    },
    {
      "cell_type": "code",
      "source": [
        "IntEx = 5\n",
        "FloatEx = 5.5\n",
        "strEx = \"Hello\"\n",
        "boolEx = True\n",
        "\n",
        "if a == \"Hello\":\n",
        "    print(\"True\")\n",
        "else:\n",
        "    print(\"False\")\n",
        "\n",
        "val1=10\n",
        "val2=20\n",
        "val3=val1+val2\n",
        "print(val3)"
      ],
      "metadata": {
        "colab": {
          "base_uri": "https://localhost:8080/"
        },
        "id": "jL3j4L-iXoys",
        "outputId": "d87e3ec9-ba46-480f-dd9c-d568ad4f1df8"
      },
      "execution_count": 3,
      "outputs": [
        {
          "output_type": "stream",
          "name": "stdout",
          "text": [
            "True\n",
            "30\n"
          ]
        }
      ]
    }
  ]
}