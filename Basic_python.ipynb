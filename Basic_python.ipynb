{
  "nbformat": 4,
  "nbformat_minor": 0,
  "metadata": {
    "colab": {
      "provenance": [],
      "authorship_tag": "ABX9TyMYJ5xrWzBcFCNnaN9CuGYa",
      "include_colab_link": true
    },
    "kernelspec": {
      "name": "python3",
      "display_name": "Python 3"
    },
    "language_info": {
      "name": "python"
    }
  },
  "cells": [
    {
      "cell_type": "markdown",
      "metadata": {
        "id": "view-in-github",
        "colab_type": "text"
      },
      "source": [
        "<a href=\"https://colab.research.google.com/github/PoojaTN123/CRUD/blob/main/Basic_python.ipynb\" target=\"_parent\"><img src=\"https://colab.research.google.com/assets/colab-badge.svg\" alt=\"Open In Colab\"/></a>"
      ]
    },
    {
      "cell_type": "code",
      "source": [
        "# prompt: create .txt file in colab\n",
        "\n",
        "with open('my_file.txt', 'w') as f:\n",
        "  f.write('This is my file content.')\n",
        "!cat my_file.txt\n"
      ],
      "metadata": {
        "id": "xFg1Bssfn04N"
      },
      "execution_count": null,
      "outputs": []
    },
    {
      "cell_type": "code",
      "source": [
        "# prompt: Project Overview: Create a simple calculator that can perform basic arithmetic operations such as addition, subtraction, multiplication, and division. Each operation will be implemented as a separate function, and the user can choose which operation to perform.\n",
        "# add(a, b) for addition\n",
        "# subtract(a, b) for subtraction\n",
        "# multiply(a, b) for multiplication\n",
        "# divide(a, b) for division\n",
        "\n",
        "def add(a, b):\n",
        "  return a + b\n",
        "\n",
        "def subtract(a, b):\n",
        "  return a - b\n",
        "\n",
        "def multiply(a, b):\n",
        "  return a * b\n",
        "\n",
        "def divide(a, b):\n",
        "  if b == 0:\n",
        "    return \"Division by zero error!\"\n",
        "  return a / b\n"
      ],
      "metadata": {
        "id": "POGZjZqAqJMr"
      },
      "execution_count": null,
      "outputs": []
    },
    {
      "cell_type": "code",
      "source": [
        "# prompt: python dictionary data\n",
        "\n",
        "my_dict = {\n",
        "    'name': 'John Doe',\n",
        "    'age': 30,\n",
        "    'occupation': 'Software Engineer',\n",
        "    'city': 'New York'\n",
        "}\n",
        "\n",
        "print(my_dict)\n",
        "print(my_dict['name']) # Accessing a value by its key\n",
        "\n",
        "# Modifying a value\n",
        "my_dict['age'] = 31\n",
        "print(my_dict)\n",
        "\n",
        "# Adding a new key-value pair\n",
        "my_dict['country'] = 'USA'\n",
        "print(my_dict)\n",
        "\n",
        "# Removing a key-value pair\n",
        "del my_dict['city']\n",
        "print(my_dict)\n",
        "\n",
        "\n",
        "# Iterating through the dictionary\n",
        "for key, value in my_dict.items():\n",
        "  print(f\"{key}: {value}\")\n",
        "\n",
        "# Checking if a key exists\n",
        "if 'name' in my_dict:\n",
        "    print(\"Name key exists\")\n",
        "\n",
        "# Getting the value associated with a key, or a default value if the key doesn't exist\n",
        "occupation = my_dict.get('occupation', 'Unknown')\n",
        "print(occupation)\n",
        "\n",
        "# Getting all keys and values\n",
        "keys = my_dict.keys()\n",
        "values = my_dict.values()\n",
        "print(keys)\n",
        "print(values)\n",
        "\n",
        "\n",
        "# Nested Dictionaries\n",
        "\n",
        "nested_dict = {\n",
        "    'person1': {\n",
        "        'name': 'Alice',\n",
        "        'age': 25\n",
        "    },\n",
        "    'person2': {\n",
        "        'name': 'Bob',\n",
        "        'age': 35\n",
        "    }\n",
        "}\n",
        "\n",
        "print(nested_dict)\n",
        "print(nested_dict['person1']['name'])\n",
        "\n"
      ],
      "metadata": {
        "id": "kPFCMMu_PBAE",
        "outputId": "45cab4a6-23ec-4d4d-a409-2f239b834dde",
        "colab": {
          "base_uri": "https://localhost:8080/"
        }
      },
      "execution_count": 1,
      "outputs": [
        {
          "output_type": "stream",
          "name": "stdout",
          "text": [
            "{'name': 'John Doe', 'age': 30, 'occupation': 'Software Engineer', 'city': 'New York'}\n",
            "John Doe\n",
            "{'name': 'John Doe', 'age': 31, 'occupation': 'Software Engineer', 'city': 'New York'}\n",
            "{'name': 'John Doe', 'age': 31, 'occupation': 'Software Engineer', 'city': 'New York', 'country': 'USA'}\n",
            "{'name': 'John Doe', 'age': 31, 'occupation': 'Software Engineer', 'country': 'USA'}\n",
            "name: John Doe\n",
            "age: 31\n",
            "occupation: Software Engineer\n",
            "country: USA\n",
            "Name key exists\n",
            "Software Engineer\n",
            "dict_keys(['name', 'age', 'occupation', 'country'])\n",
            "dict_values(['John Doe', 31, 'Software Engineer', 'USA'])\n",
            "{'person1': {'name': 'Alice', 'age': 25}, 'person2': {'name': 'Bob', 'age': 35}}\n",
            "Alice\n"
          ]
        }
      ]
    },
    {
      "cell_type": "markdown",
      "source": [
        "# New section"
      ],
      "metadata": {
        "id": "gK1cx2-OoD64"
      }
    },
    {
      "cell_type": "code",
      "source": [
        "fruits = {'apple': 1, 'banana': 2, 'orange': 3}\n",
        "fruits.update({'banana': 4, 'pear': 5})\n",
        "print(fruits)"
      ],
      "metadata": {
        "id": "3osilOzwbhwF",
        "outputId": "a5ccf1c7-1036-48af-e15a-b77e5f44c7ff",
        "colab": {
          "base_uri": "https://localhost:8080/"
        }
      },
      "execution_count": 7,
      "outputs": [
        {
          "output_type": "stream",
          "name": "stdout",
          "text": [
            "{'apple': 1, 'banana': 4, 'orange': 3, 'pear': 5}\n"
          ]
        }
      ]
    },
    {
      "cell_type": "code",
      "source": [],
      "metadata": {
        "id": "ZrTr04MQenBG"
      },
      "execution_count": null,
      "outputs": []
    },
    {
      "cell_type": "markdown",
      "source": [
        "# New section"
      ],
      "metadata": {
        "id": "wZDVVARBeoVq"
      }
    }
  ]
}