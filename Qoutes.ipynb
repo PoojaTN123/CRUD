{
  "nbformat": 4,
  "nbformat_minor": 0,
  "metadata": {
    "colab": {
      "provenance": [],
      "authorship_tag": "ABX9TyOk+IB0MtRfyOBPhJY4ImVQ",
      "include_colab_link": true
    },
    "kernelspec": {
      "name": "python3",
      "display_name": "Python 3"
    },
    "language_info": {
      "name": "python"
    }
  },
  "cells": [
    {
      "cell_type": "markdown",
      "metadata": {
        "id": "view-in-github",
        "colab_type": "text"
      },
      "source": [
        "<a href=\"https://colab.research.google.com/github/PoojaTN123/CRUD/blob/main/Qoutes.ipynb\" target=\"_parent\"><img src=\"https://colab.research.google.com/assets/colab-badge.svg\" alt=\"Open In Colab\"/></a>"
      ]
    },
    {
      "cell_type": "code",
      "execution_count": null,
      "metadata": {
        "id": "xIUGKeRZ3uGx"
      },
      "outputs": [],
      "source": []
    },
    {
      "cell_type": "markdown",
      "source": [
        "# **Qoutes**"
      ],
      "metadata": {
        "id": "bnTT-A1n5mCr"
      }
    },
    {
      "cell_type": "code",
      "source": [
        "print(\"Hello world\")\n",
        "\n",
        "a,b=10,20\n",
        "print(\"Before swapping:a=\",a,\",b=\",b)\n",
        "a,b=b,a\n",
        "print(\"After swapping: a=\",a,\",b=\",b)\n",
        "print(f'Using format string a={a},b={b}')\n"
      ],
      "metadata": {
        "colab": {
          "base_uri": "https://localhost:8080/"
        },
        "id": "yy31QIor5p4X",
        "outputId": "e55df1f0-fb4b-4f17-9b0d-4debfdb07c8e"
      },
      "execution_count": 5,
      "outputs": [
        {
          "output_type": "stream",
          "name": "stdout",
          "text": [
            "Hello world\n",
            "Before swapping:a= 10 ,b= 20\n",
            "After swapping: a= 20 ,b= 10\n",
            "Using format string a=20,b=10\n"
          ]
        }
      ]
    },
    {
      "cell_type": "markdown",
      "source": [
        "Installation of python (IDE - Integrated Development Environment)\n",
        "Check intsallation is odne or not\n",
        "pip intsall notebook\n",
        "python --version"
      ],
      "metadata": {
        "id": "c4zXxrqt8pDL"
      }
    },
    {
      "cell_type": "code",
      "source": [
        "import sys\n",
        "print(sys.version)\n",
        "print(\"Python version\",sys.version)\n",
        "\n",
        "import os\n",
        "print(\"os libraury loaded successfully\")\n",
        "print(os.getcwd())"
      ],
      "metadata": {
        "colab": {
          "base_uri": "https://localhost:8080/"
        },
        "id": "46MnQskjCJup",
        "outputId": "1823509e-9d97-4318-a1f8-e5129c44e4ba"
      },
      "execution_count": 7,
      "outputs": [
        {
          "output_type": "stream",
          "name": "stdout",
          "text": [
            "3.11.12 (main, Apr  9 2025, 08:55:54) [GCC 11.4.0]\n",
            "Python version 3.11.12 (main, Apr  9 2025, 08:55:54) [GCC 11.4.0]\n",
            "os libraury loaded successfully\n",
            "/content\n"
          ]
        }
      ]
    },
    {
      "cell_type": "markdown",
      "source": [
        "# **Bsics of Python**"
      ],
      "metadata": {
        "id": "IPG5FWIeERpG"
      }
    },
    {
      "cell_type": "code",
      "source": [
        "a=10\n",
        "b=20\n",
        "print(\"Before swapping {a},{b}:\",a,b)\n",
        "c=a\n",
        "a=b\n",
        "b=c\n",
        "print(f\"After swapping:{a} and {b}\")"
      ],
      "metadata": {
        "colab": {
          "base_uri": "https://localhost:8080/"
        },
        "id": "FqWraUpMEYcQ",
        "outputId": "c47adec0-f75f-4e25-ad81-42743b58373f"
      },
      "execution_count": 14,
      "outputs": [
        {
          "output_type": "stream",
          "name": "stdout",
          "text": [
            "Before swapping {a},{b}: 10 20\n",
            "After swapping:20 and 10\n"
          ]
        }
      ]
    },
    {
      "cell_type": "code",
      "source": [
        "FirstName=str(input(\"Enter your first name:\"))\n",
        "LastName=str(input(\"Enter your last name:\"))\n",
        "print(\"Hello {]} {} welcome to Tutorial\".format(FirstName,LastName))"
      ],
      "metadata": {
        "colab": {
          "base_uri": "https://localhost:8080/"
        },
        "id": "UvL2JpU0Uch-",
        "outputId": "d3bcf721-7c23-44cc-9d4c-90abf867aa1e"
      },
      "execution_count": 13,
      "outputs": [
        {
          "output_type": "stream",
          "name": "stdout",
          "text": [
            "Enter your first name:Pooja\n",
            "Enter your last name:TN\n",
            "Hello Pooja TN welcome to Tutorial\n"
          ]
        }
      ]
    }
  ]
}